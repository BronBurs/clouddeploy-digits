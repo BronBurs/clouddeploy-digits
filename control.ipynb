{
 "cells": [
  {
   "cell_type": "code",
   "execution_count": 1,
   "metadata": {
    "scrolled": true
   },
   "outputs": [
    {
     "name": "stdout",
     "output_type": "stream",
     "text": [
      "Azure ML SDK Version:  1.0.48\n"
     ]
    }
   ],
   "source": [
    "import os\n",
    "import json\n",
    "import time\n",
    "import azureml\n",
    "import logging\n",
    "from azureml.core.model import Model\n",
    "from azureml.core import Workspace, Run, Datastore, Experiment\n",
    "from azureml.core.runconfig import RunConfiguration\n",
    "from azureml.core.conda_dependencies import CondaDependencies\n",
    "from azureml.core.compute import ComputeTarget, AmlCompute\n",
    "from azureml.core.compute_target import ComputeTargetException\n",
    "from azureml.train.hyperdrive import *\n",
    "from azureml.train.estimator import Estimator\n",
    "from azureml.widgets import RunDetails\n",
    "\n",
    "print(\"Azure ML SDK Version: \", azureml.core.VERSION)"
   ]
  },
  {
   "cell_type": "code",
   "execution_count": 2,
   "metadata": {},
   "outputs": [],
   "source": [
    "# use this code to set up config file\n",
    "#subscription_id ='<SUB_ID>'\n",
    "#resource_group ='<RESOURCE_GROUP>'\n",
    "#workspace_name = '<WORKSPACE>'\n",
    "\n",
    "#try:\n",
    "#    ws = Workspace(subscription_id = subscription_id, resource_group = resource_group, workspace_name = workspace_name)\n",
    "#    ws.write_config()\n",
    "#    print('Workspace configuration succeeded. You are all set!')\n",
    "#except:\n",
    "#    print('Workspace not found. TOO MANY ISSUES!!!')\n",
    "ws = Workspace.from_config()"
   ]
  },
  {
   "cell_type": "markdown",
   "metadata": {},
   "source": [
    "# Compute Environment"
   ]
  },
  {
   "cell_type": "code",
   "execution_count": 3,
   "metadata": {},
   "outputs": [
    {
     "name": "stdout",
     "output_type": "stream",
     "text": [
      "Found existing compute target\n"
     ]
    }
   ],
   "source": [
    "cluster = 'gandalf'\n",
    "try:\n",
    "    compute = ComputeTarget(workspace=ws, name=cluster)\n",
    "    print('Found existing compute target')\n",
    "except ComputeTargetException:\n",
    "    print('Creating a new compute target...')\n",
    "    compute_config = AmlCompute.provisioning_configuration(vm_size='STANDARD_NC12', min_nodes=1, max_nodes=5)\n",
    "    compute = ComputeTarget.create(ws, cluster, compute_config)\n",
    "    compute.wait_for_completion(show_output=True)\n",
    "    "
   ]
  },
  {
   "cell_type": "markdown",
   "metadata": {},
   "source": [
    "# Run Experiment"
   ]
  },
  {
   "cell_type": "code",
   "execution_count": 4,
   "metadata": {},
   "outputs": [],
   "source": [
    "# Create and run experiment\n",
    "mnist = Experiment(ws, 'mnist_lab')\n",
    "estimator = Estimator(source_directory='.',\n",
    "                      compute_target=compute,\n",
    "                      entry_script='train.py',\n",
    "                      use_gpu=True,\n",
    "                      pip_requirements_file='requirements.txt')\n",
    "\n",
    "run = mnist.submit(estimator)"
   ]
  },
  {
   "cell_type": "code",
   "execution_count": 5,
   "metadata": {},
   "outputs": [
    {
     "data": {
      "text/html": [
       "<table style=\"width:100%\"><tr><th>Experiment</th><th>Id</th><th>Type</th><th>Status</th><th>Details Page</th><th>Docs Page</th></tr><tr><td>mnist_lab</td><td>mnist_lab_1563571422_1b966819</td><td>azureml.scriptrun</td><td>Queued</td><td><a href=\"https://mlworkspace.azure.ai/portal/subscriptions/91d27443-f037-45d9-bb0c-428256992df6/resourceGroups/Robots/providers/Microsoft.MachineLearningServices/workspaces/Hal/experiments/mnist_lab/runs/mnist_lab_1563571422_1b966819\" target=\"_blank\" rel=\"noopener\">Link to Azure Portal</a></td><td><a href=\"https://docs.microsoft.com/en-us/python/api/azureml-core/azureml.core.script_run.ScriptRun?view=azure-ml-py\" target=\"_blank\" rel=\"noopener\">Link to Documentation</a></td></tr></table>"
      ],
      "text/plain": [
       "Run(Experiment: mnist_lab,\n",
       "Id: mnist_lab_1563571422_1b966819,\n",
       "Type: azureml.scriptrun,\n",
       "Status: Queued)"
      ]
     },
     "execution_count": 5,
     "metadata": {},
     "output_type": "execute_result"
    }
   ],
   "source": [
    "run"
   ]
  },
  {
   "cell_type": "code",
   "execution_count": 6,
   "metadata": {},
   "outputs": [
    {
     "data": {
      "application/vnd.jupyter.widget-view+json": {
       "model_id": "a20f8da58503476c9e9b28797af99e5b",
       "version_major": 2,
       "version_minor": 0
      },
      "text/plain": [
       "_UserRunWidget(widget_settings={'childWidgetDisplay': 'popup', 'send_telemetry': False, 'log_level': 'INFO', '…"
      ]
     },
     "metadata": {},
     "output_type": "display_data"
    },
    {
     "name": "stderr",
     "output_type": "stream",
     "text": [
      "Exception in thread Thread-20:\n",
      "Traceback (most recent call last):\n",
      "  File \"c:\\programdata\\miniconda3\\envs\\tf\\lib\\threading.py\", line 917, in _bootstrap_inner\n",
      "    self.run()\n",
      "  File \"c:\\programdata\\miniconda3\\envs\\tf\\lib\\threading.py\", line 865, in run\n",
      "    self._target(*self._args, **self._kwargs)\n",
      "  File \"c:\\programdata\\miniconda3\\envs\\tf\\lib\\multiprocessing\\pool.py\", line 486, in _handle_results\n",
      "    cache[job]._set(i, obj)\n",
      "  File \"c:\\programdata\\miniconda3\\envs\\tf\\lib\\multiprocessing\\pool.py\", line 662, in _set\n",
      "    self._callback(self._value)\n",
      "  File \"c:\\programdata\\miniconda3\\envs\\tf\\lib\\site-packages\\azureml\\widgets\\_userrun\\_run_details.py\", line 503, in _update_metrics\n",
      "    self.widget_instance.run_metrics = result\n",
      "  File \"c:\\programdata\\miniconda3\\envs\\tf\\lib\\site-packages\\traitlets\\traitlets.py\", line 585, in __set__\n",
      "    self.set(obj, value)\n",
      "  File \"c:\\programdata\\miniconda3\\envs\\tf\\lib\\site-packages\\traitlets\\traitlets.py\", line 574, in set\n",
      "    obj._notify_trait(self.name, old_value, new_value)\n",
      "  File \"c:\\programdata\\miniconda3\\envs\\tf\\lib\\site-packages\\traitlets\\traitlets.py\", line 1139, in _notify_trait\n",
      "    type='change',\n",
      "  File \"c:\\programdata\\miniconda3\\envs\\tf\\lib\\site-packages\\ipywidgets\\widgets\\widget.py\", line 603, in notify_change\n",
      "    self.send_state(key=name)\n",
      "  File \"c:\\programdata\\miniconda3\\envs\\tf\\lib\\site-packages\\ipywidgets\\widgets\\widget.py\", line 487, in send_state\n",
      "    self._send(msg, buffers=buffers)\n",
      "  File \"c:\\programdata\\miniconda3\\envs\\tf\\lib\\site-packages\\ipywidgets\\widgets\\widget.py\", line 735, in _send\n",
      "    self.comm.send(data=msg, buffers=buffers)\n",
      "  File \"c:\\programdata\\miniconda3\\envs\\tf\\lib\\site-packages\\ipykernel\\comm\\comm.py\", line 121, in send\n",
      "    data=data, metadata=metadata, buffers=buffers,\n",
      "  File \"c:\\programdata\\miniconda3\\envs\\tf\\lib\\site-packages\\ipykernel\\comm\\comm.py\", line 65, in _publish_msg\n",
      "    content = json_clean(dict(data=data, comm_id=self.comm_id, **keys))\n",
      "  File \"c:\\programdata\\miniconda3\\envs\\tf\\lib\\site-packages\\ipykernel\\jsonutil.py\", line 191, in json_clean\n",
      "    out[unicode_type(k)] = json_clean(v)\n",
      "  File \"c:\\programdata\\miniconda3\\envs\\tf\\lib\\site-packages\\ipykernel\\jsonutil.py\", line 191, in json_clean\n",
      "    out[unicode_type(k)] = json_clean(v)\n",
      "  File \"c:\\programdata\\miniconda3\\envs\\tf\\lib\\site-packages\\ipykernel\\jsonutil.py\", line 191, in json_clean\n",
      "    out[unicode_type(k)] = json_clean(v)\n",
      "  File \"c:\\programdata\\miniconda3\\envs\\tf\\lib\\site-packages\\ipykernel\\jsonutil.py\", line 177, in json_clean\n",
      "    return [json_clean(x) for x in obj]\n",
      "  File \"c:\\programdata\\miniconda3\\envs\\tf\\lib\\site-packages\\ipykernel\\jsonutil.py\", line 177, in <listcomp>\n",
      "    return [json_clean(x) for x in obj]\n",
      "  File \"c:\\programdata\\miniconda3\\envs\\tf\\lib\\site-packages\\ipykernel\\jsonutil.py\", line 191, in json_clean\n",
      "    out[unicode_type(k)] = json_clean(v)\n",
      "  File \"c:\\programdata\\miniconda3\\envs\\tf\\lib\\site-packages\\ipykernel\\jsonutil.py\", line 177, in json_clean\n",
      "    return [json_clean(x) for x in obj]\n",
      "  File \"c:\\programdata\\miniconda3\\envs\\tf\\lib\\site-packages\\ipykernel\\jsonutil.py\", line 177, in <listcomp>\n",
      "    return [json_clean(x) for x in obj]\n",
      "  File \"c:\\programdata\\miniconda3\\envs\\tf\\lib\\site-packages\\ipykernel\\jsonutil.py\", line 191, in json_clean\n",
      "    out[unicode_type(k)] = json_clean(v)\n",
      "  File \"c:\\programdata\\miniconda3\\envs\\tf\\lib\\site-packages\\ipykernel\\jsonutil.py\", line 177, in json_clean\n",
      "    return [json_clean(x) for x in obj]\n",
      "  File \"c:\\programdata\\miniconda3\\envs\\tf\\lib\\site-packages\\ipykernel\\jsonutil.py\", line 177, in <listcomp>\n",
      "    return [json_clean(x) for x in obj]\n",
      "  File \"c:\\programdata\\miniconda3\\envs\\tf\\lib\\site-packages\\ipykernel\\jsonutil.py\", line 197, in json_clean\n",
      "    raise ValueError(\"Can't clean for JSON: %r\" % obj)\n",
      "ValueError: Can't clean for JSON: Artifact(data_location=aml://artifactId/ExperimentRun/dcid.mnist_lab_1563571422_1b966819/training_set_1563571451.png, filename=training_set_1563571451.png, metric_type=azureml.v2.image)\n",
      "\n"
     ]
    }
   ],
   "source": [
    "RunDetails(run).show()"
   ]
  },
  {
   "cell_type": "markdown",
   "metadata": {},
   "source": [
    "# Manage Data"
   ]
  },
  {
   "cell_type": "code",
   "execution_count": 7,
   "metadata": {},
   "outputs": [
    {
     "ename": "Exception",
     "evalue": "src_path must be a directory",
     "output_type": "error",
     "traceback": [
      "\u001b[1;31m---------------------------------------------------------------------------\u001b[0m",
      "\u001b[1;31mException\u001b[0m                                 Traceback (most recent call last)",
      "\u001b[1;32m<ipython-input-7-ed1eb369e236>\u001b[0m in \u001b[0;36m<module>\u001b[1;34m\u001b[0m\n\u001b[0;32m      1\u001b[0m \u001b[0mds\u001b[0m \u001b[1;33m=\u001b[0m \u001b[0mws\u001b[0m\u001b[1;33m.\u001b[0m\u001b[0mget_default_datastore\u001b[0m\u001b[1;33m(\u001b[0m\u001b[1;33m)\u001b[0m\u001b[1;33m\u001b[0m\u001b[1;33m\u001b[0m\u001b[0m\n\u001b[1;32m----> 2\u001b[1;33m \u001b[0mmnist_data\u001b[0m \u001b[1;33m=\u001b[0m \u001b[0mds\u001b[0m\u001b[1;33m.\u001b[0m\u001b[0mupload\u001b[0m\u001b[1;33m(\u001b[0m\u001b[0msrc_dir\u001b[0m \u001b[1;33m=\u001b[0m \u001b[1;34m'data'\u001b[0m\u001b[1;33m,\u001b[0m \u001b[0mtarget_path\u001b[0m \u001b[1;33m=\u001b[0m \u001b[1;34m'mnist'\u001b[0m\u001b[1;33m,\u001b[0m \u001b[0mshow_progress\u001b[0m \u001b[1;33m=\u001b[0m \u001b[1;32mTrue\u001b[0m\u001b[1;33m)\u001b[0m\u001b[1;33m\u001b[0m\u001b[1;33m\u001b[0m\u001b[0m\n\u001b[0m",
      "\u001b[1;32mc:\\programdata\\miniconda3\\envs\\tf\\lib\\site-packages\\azureml\\data\\azure_storage_datastore.py\u001b[0m in \u001b[0;36mupload\u001b[1;34m(self, src_dir, target_path, overwrite, show_progress)\u001b[0m\n\u001b[0;32m    593\u001b[0m         \u001b[0mtarget_path\u001b[0m \u001b[1;33m=\u001b[0m \u001b[0mtarget_path\u001b[0m \u001b[1;32mor\u001b[0m \u001b[1;34m\"\"\u001b[0m\u001b[1;33m\u001b[0m\u001b[1;33m\u001b[0m\u001b[0m\n\u001b[0;32m    594\u001b[0m         count = self._start_upload_task(\n\u001b[1;32m--> 595\u001b[1;33m             \u001b[0mself\u001b[0m\u001b[1;33m.\u001b[0m\u001b[0m_get_upload_from_dir\u001b[0m\u001b[1;33m(\u001b[0m\u001b[0msrc_dir\u001b[0m\u001b[1;33m,\u001b[0m \u001b[0mtarget_path\u001b[0m\u001b[1;33m)\u001b[0m\u001b[1;33m,\u001b[0m\u001b[1;33m\u001b[0m\u001b[1;33m\u001b[0m\u001b[0m\n\u001b[0m\u001b[0;32m    596\u001b[0m             \u001b[0moverwrite\u001b[0m\u001b[1;33m,\u001b[0m\u001b[1;33m\u001b[0m\u001b[1;33m\u001b[0m\u001b[0m\n\u001b[0;32m    597\u001b[0m             \u001b[1;32mlambda\u001b[0m \u001b[0mtarget_file_path\u001b[0m\u001b[1;33m:\u001b[0m \u001b[0mself\u001b[0m\u001b[1;33m.\u001b[0m\u001b[0mblob_service\u001b[0m\u001b[1;33m.\u001b[0m\u001b[0mexists\u001b[0m\u001b[1;33m(\u001b[0m\u001b[0mself\u001b[0m\u001b[1;33m.\u001b[0m\u001b[0mcontainer_name\u001b[0m\u001b[1;33m,\u001b[0m \u001b[0mtarget_file_path\u001b[0m\u001b[1;33m)\u001b[0m\u001b[1;33m,\u001b[0m\u001b[1;33m\u001b[0m\u001b[1;33m\u001b[0m\u001b[0m\n",
      "\u001b[1;32mc:\\programdata\\miniconda3\\envs\\tf\\lib\\site-packages\\azureml\\data\\azure_storage_datastore.py\u001b[0m in \u001b[0;36m_get_upload_from_dir\u001b[1;34m(self, src_path, target_path)\u001b[0m\n\u001b[0;32m    184\u001b[0m     \u001b[1;32mdef\u001b[0m \u001b[0m_get_upload_from_dir\u001b[0m\u001b[1;33m(\u001b[0m\u001b[0mself\u001b[0m\u001b[1;33m,\u001b[0m \u001b[0msrc_path\u001b[0m\u001b[1;33m,\u001b[0m \u001b[0mtarget_path\u001b[0m\u001b[1;33m)\u001b[0m\u001b[1;33m:\u001b[0m\u001b[1;33m\u001b[0m\u001b[1;33m\u001b[0m\u001b[0m\n\u001b[0;32m    185\u001b[0m         \u001b[1;32mif\u001b[0m \u001b[1;32mnot\u001b[0m \u001b[0mos\u001b[0m\u001b[1;33m.\u001b[0m\u001b[0mpath\u001b[0m\u001b[1;33m.\u001b[0m\u001b[0misdir\u001b[0m\u001b[1;33m(\u001b[0m\u001b[0msrc_path\u001b[0m\u001b[1;33m)\u001b[0m\u001b[1;33m:\u001b[0m\u001b[1;33m\u001b[0m\u001b[1;33m\u001b[0m\u001b[0m\n\u001b[1;32m--> 186\u001b[1;33m             \u001b[1;32mraise\u001b[0m \u001b[0mException\u001b[0m\u001b[1;33m(\u001b[0m\u001b[1;34m\"src_path must be a directory\"\u001b[0m\u001b[1;33m)\u001b[0m\u001b[1;33m\u001b[0m\u001b[1;33m\u001b[0m\u001b[0m\n\u001b[0m\u001b[0;32m    187\u001b[0m \u001b[1;33m\u001b[0m\u001b[0m\n\u001b[0;32m    188\u001b[0m         \u001b[0mpaths_to_upload\u001b[0m \u001b[1;33m=\u001b[0m \u001b[1;33m[\u001b[0m\u001b[1;33m]\u001b[0m\u001b[1;33m\u001b[0m\u001b[1;33m\u001b[0m\u001b[0m\n",
      "\u001b[1;31mException\u001b[0m: src_path must be a directory"
     ]
    }
   ],
   "source": [
    "ds = ws.get_default_datastore()\n",
    "mnist_data = ds.upload(src_dir = 'data', target_path = 'mnist', show_progress = True)"
   ]
  },
  {
   "cell_type": "code",
   "execution_count": null,
   "metadata": {},
   "outputs": [],
   "source": [
    "# run the same was as above\n",
    "script_params={\n",
    "    '--data': mnist_data.as_mount(),\n",
    "    '\n",
    "}\n",
    "\n",
    "# Create and run experiment\n",
    "mnist = Experiment(ws, 'mnist_lab')\n",
    "estimator = Estimator(source_directory='.',\n",
    "                      compute_target=compute,\n",
    "                      entry_script='train.py',\n",
    "                      use_gpu=True,\n",
    "                      pip_requirements_file='requirements.txt')\n",
    "\n",
    "run = mnist.submit(estimator)\n",
    "RunDetails(run).show()"
   ]
  },
  {
   "cell_type": "code",
   "execution_count": null,
   "metadata": {},
   "outputs": [],
   "source": []
  }
 ],
 "metadata": {
  "kernelspec": {
   "display_name": "Python 3",
   "language": "python",
   "name": "python3"
  },
  "language_info": {
   "codemirror_mode": {
    "name": "ipython",
    "version": 3
   },
   "file_extension": ".py",
   "mimetype": "text/x-python",
   "name": "python",
   "nbconvert_exporter": "python",
   "pygments_lexer": "ipython3",
   "version": "3.7.3"
  },
  "varInspector": {
   "cols": {
    "lenName": 16,
    "lenType": 16,
    "lenVar": 40
   },
   "kernels_config": {
    "python": {
     "delete_cmd_postfix": "",
     "delete_cmd_prefix": "del ",
     "library": "var_list.py",
     "varRefreshCmd": "print(var_dic_list())"
    },
    "r": {
     "delete_cmd_postfix": ") ",
     "delete_cmd_prefix": "rm(",
     "library": "var_list.r",
     "varRefreshCmd": "cat(var_dic_list()) "
    }
   },
   "position": {
    "height": "650.4px",
    "left": "1315.67px",
    "right": "20px",
    "top": "120px",
    "width": "361.933px"
   },
   "types_to_exclude": [
    "module",
    "function",
    "builtin_function_or_method",
    "instance",
    "_Feature"
   ],
   "window_display": false
  }
 },
 "nbformat": 4,
 "nbformat_minor": 2
}
